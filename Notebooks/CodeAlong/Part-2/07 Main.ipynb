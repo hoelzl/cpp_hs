{
 "cells": [
  {
   "cell_type": "markdown",
   "id": "9fe42c09de30f79d",
   "metadata": {
    "lang": "de",
    "slideshow": {
     "slide_type": "slide"
    },
    "tags": [
     "slide"
    ]
   },
   "source": [
    "\n",
    "<img src=\"data:image/png;base64,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\"\n",
    "     style=\"display:block;margin:auto;width:5%\"/>\n",
    "<br>\n",
    "\n",
    "<div style=\"text-align:center; font-size:200%;\">\n",
    " <b>Main</b>\n",
    "</div>\n",
    "<br/>\n",
    "<div style=\"text-align:center; font-size:120%;\">Dr. Matthias Hölzl</div>\n",
    "<br/>\n",
    "<div style=\"text-align:center;\">Coding-Akademie München</div>\n",
    "<br/>\n",
    "<!-- 07 Main.ipynb -->\n",
    "<!-- slides/module_120_basics/topic_240_main.cpp -->"
   ]
  },
  {
   "cell_type": "markdown",
   "id": "9582bb565f696763",
   "metadata": {
    "lang": "de",
    "lines_to_next_cell": 2,
    "slideshow": {
     "slide_type": "slide"
    },
    "tags": [
     "slide"
    ]
   },
   "source": [
    "\n",
    "# Die `main` Funktion\n",
    "\n",
    "- Die Ausführung eines Programms beginnt immer mit der `main` Funktion.\n",
    "- Sie muss eines der folgenden Formate haben:\n",
    "  ```cpp\n",
    "  int main()\n",
    "  {\n",
    "      // ...\n",
    "  }\n",
    "  ```\n",
    "  oder\n",
    "  ```cpp\n",
    "  int main(int argc, char* argv[])\n",
    "  {\n",
    "      // ...\n",
    "  }\n",
    "  ```\n",
    "- Die `main` Funktion muss `int` zurückgeben.\n",
    "- Der Rückgabewert wird (potentiell) vom Betriebssystem verwendet, um zu\n",
    "  bestimmen, ob das Programm erfolgreich ausgeführt wurde oder nicht."
   ]
  },
  {
   "cell_type": "markdown",
   "id": "00cfe52b86fdb2e9",
   "metadata": {
    "lang": "de",
    "slideshow": {
     "slide_type": "subslide"
    },
    "tags": [
     "subslide"
    ]
   },
   "source": [
    "\n",
    "## `argc` und `argv`\n",
    "\n",
    "- `argc` ist die Anzahl der Kommandozeilenargumente.\n",
    "- `argv` ist ein Array von Strings, die die Kommandozeilenargumente\n",
    "  repräsentieren.\n",
    "- `argv[0]` ist der Name des Programms.\n",
    "- `argv[1]` ist das erste Kommandozeilenargument."
   ]
  },
  {
   "cell_type": "markdown",
   "id": "c9ca63c254d7d571",
   "metadata": {
    "lang": "de",
    "slideshow": {
     "slide_type": "subslide"
    },
    "tags": [
     "subslide"
    ]
   },
   "source": [
    "\n",
    "## Rückgabewert\n",
    "\n",
    "- Der Rückgabewert der `main` Funktion wird vom Betriebssystem verwendet, um\n",
    "  zu bestimmen, ob das Programm erfolgreich ausgeführt wurde oder nicht.\n",
    "- Der Rückgabewert `0` bedeutet, dass das Programm erfolgreich ausgeführt\n",
    "  wurde.\n",
    "- Alle anderen Rückgabewerte bedeuten, dass das Programm nicht erfolgreich\n",
    "  ausgeführt wurde."
   ]
  },
  {
   "cell_type": "markdown",
   "id": "ac23fc6f98a7cac0",
   "metadata": {
    "lang": "de",
    "lines_to_next_cell": 2,
    "slideshow": {
     "slide_type": "subslide"
    },
    "tags": [
     "subslide"
    ]
   },
   "source": [
    "\n",
    "## Quellcode von C++ Programmen\n",
    "\n",
    "- C++ Programme bestehen aus einer oder mehreren Quelldateien.\n",
    "- Jede Quelldatei wird kompiliert und in eine Objektdatei übersetzt.\n",
    "- Die Objektdateien werden dann zu einer ausführbaren Datei verlinkt."
   ]
  },
  {
   "cell_type": "markdown",
   "id": "58c10d6fd8651483",
   "metadata": {
    "lang": "de",
    "slideshow": {
     "slide_type": "subslide"
    },
    "tags": [
     "subslide"
    ]
   },
   "source": [
    "\n",
    "## Cpp-Dateien\n",
    "\n",
    "- C++ Quelldateien haben typischerweise die Dateiendung `.cpp`.\n",
    "- Sie enthalten den Quellcode von Funktionen, Klassen, Variablen,\n",
    "  Konstanten, etc.\n",
    "- Größere Projekte haben typischerweise mehrere Quelldateien.\n",
    "- Diese Dateien können unabhängig voneinander kompiliert werden.\n",
    "- Problem: Wie kann eine Funktion `f()` in einer Quelldatei `a.cpp` die\n",
    "  Funktion `g()` in einer anderen Quelldatei `b.cpp` aufrufen?\n",
    "- Lösung: Vorwärtsdeklarationen"
   ]
  },
  {
   "cell_type": "markdown",
   "id": "4bcecd35380799f2",
   "metadata": {
    "lang": "de",
    "slideshow": {
     "slide_type": "subslide"
    },
    "tags": [
     "subslide"
    ]
   },
   "source": [
    "\n",
    "## Vorwärtsdeklaration\n",
    "\n",
    "- Eine Funktion `g()`, die die Funktion `f()` aufruft, kann kompiliert werden,\n",
    "  ohne dass die *Definition* von `f()` bekannt ist.\n",
    "- Aber eine *Deklaration* von Funktion `f()` muss vorhanden sein.\n",
    "- Eine **Deklaration** einer Funktion besteht aus dem Funktionskopf und einem\n",
    "  Semikolon.\n",
    "- Die Deklaration einer Funktion teilt dem Compiler mit, dass es diese\n",
    "  Funktion gibt und wie sie aufgerufen werden kann.\n",
    "- Typischerweise werden Funktionen in Headerdateien deklariert.\n",
    "- Zur Laufzeit muss natürlich die Funktion `f()` definiert sein.\n",
    "- Siehe `code/completed/simple_examples`."
   ]
  },
  {
   "cell_type": "markdown",
   "id": "d74fcc0682a47edc",
   "metadata": {
    "lang": "de",
    "slideshow": {
     "slide_type": "subslide"
    },
    "tags": [
     "subslide"
    ]
   },
   "source": [
    "\n",
    "## Headerdateien\n",
    "\n",
    "- Headerdateien enthalten Deklarationen von Funktionen, Klassen, Variablen,\n",
    "  Konstanten, etc.\n",
    "- Die Dateiendung ist typischerweise `.h` oder `.hpp`.\n",
    "- Sie werden mit der Präprozessordirektive `#include` eingebunden.\n",
    "- Damit wird der Quellcode des Headers in den Quellcode des Programms\n",
    "  eingefügt.\n",
    "- Jeder Header darf nur einmal eingebunden werden.\n",
    "  - Typischerweise wird dies durch `#pragma once` oder  Include Guards erreicht.\n",
    "- Siehe `code/completed/simple_examples`."
   ]
  },
  {
   "cell_type": "markdown",
   "id": "b52d72673f421929",
   "metadata": {
    "lang": "de",
    "slideshow": {
     "slide_type": "subslide"
    },
    "tags": [
     "subslide"
    ]
   },
   "source": [
    "\n",
    "### Include Guards\n",
    "\n",
    "- Ein Include Guard ist ein Präprozessor-Makro, das verhindert, dass ein\n",
    "  Header mehrfach eingebunden wird.\n",
    "- Ein Include Guard besteht aus einem Makronamen und einem `#define`.\n",
    "- Der Makroname ist typischerweise der Dateiname in Großbuchstaben und\n",
    "  durch Unterstriche ersetzt.\n",
    "- Der Makroname wird mit `#ifndef` geprüft.\n",
    "- Wenn der Makroname nicht definiert ist, wird der Header eingebunden.\n",
    "- Nach dem Einbinden wird der Makroname mit `#define` definiert."
   ]
  },
  {
   "cell_type": "markdown",
   "id": "7a6902b6486f06a8",
   "metadata": {
    "lang": "de",
    "slideshow": {
     "slide_type": "subslide"
    },
    "tags": [
     "subslide"
    ]
   },
   "source": [
    "\n",
    "## Was gehört in Headerdateien?\n",
    "\n",
    "Da Header Dateien potentiell von mehreren Quelldateien eingebunden werden,\n",
    "sollten sie keine Definitionen enthalten.\n",
    "\n",
    "See `code/completed/simple_examples`."
   ]
  },
  {
   "cell_type": "markdown",
   "id": "5c000dcd586417ec",
   "metadata": {
    "lang": "de",
    "slideshow": {
     "slide_type": "subslide"
    },
    "tags": [
     "subslide"
    ]
   },
   "source": [
    "\n",
    "Headerdateien sollten *nur* die folgenden Elemente enthalten:\n",
    "\n",
    "- Funktions-Deklarationen\n",
    "- Klassen- und Struct-Deklarationen\n",
    "- Variablendeklarationen\n",
    "- Konstanten und Enumerationen\n",
    "- Typ Aliase und Using-Deklarationen\n",
    "- Template-Deklarationen und -Definitionen"
   ]
  },
  {
   "cell_type": "markdown",
   "id": "f6487879bf6096d0",
   "metadata": {
    "lang": "de",
    "slideshow": {
     "slide_type": "subslide"
    },
    "tags": [
     "subslide"
    ]
   },
   "source": [
    "\n",
    "Headerdateien sollten *nicht* die folgenden Elemente enthalten:\n",
    "\n",
    "- Funktionsdefinitionen (außer `inline` und `constexpr`)\n",
    "- Aggregat-Definitionen\n",
    "- Variablendefinitionen (außer `const` und `constexpr`)\n",
    "- anonyme Namespaces\n",
    "- `using`-Direktiven"
   ]
  },
  {
   "cell_type": "markdown",
   "id": "dd8454cf7a6bd8bd",
   "metadata": {
    "lang": "de",
    "slideshow": {
     "slide_type": "subslide"
    },
    "tags": [
     "subslide"
    ]
   },
   "source": [
    "\n",
    "# Beispiel: Einfacher Taschenrechner\n",
    "\n",
    "In diesem Beispiel schreiben wir ein Programm, das einfache arithmetische\n",
    "Operationen wie Addition, Subtraktion, Multiplikation und Division\n",
    "durchführt. Das Programm nimmt Eingaben vom Benutzer für zwei Zahlen und die\n",
    "Operation, die sie durchführen möchten.\n",
    "\n",
    "1. Fordern Sie den Benutzer auf, die erste Zahl einzugeben.\n",
    "2. Fordern Sie den Benutzer auf, die zweite Zahl einzugeben.\n",
    "3. Fordern Sie den Benutzer auf, die Operation einzugeben, die er ausführen\n",
    "   möchte (+, -, *, /).\n",
    "4. Basierend auf der Operation führen Sie die Berechnung durch und geben Sie\n",
    "   das Ergebnis aus."
   ]
  },
  {
   "cell_type": "markdown",
   "id": "3e4a0019524c13f1",
   "metadata": {
    "lang": "de",
    "slideshow": {
     "slide_type": "subslide"
    },
    "tags": [
     "subslide"
    ]
   },
   "source": [
    "\n",
    "## Mini-Workshop: BMI-Rechner\n",
    "\n",
    "In diesem Workshop erstellen Sie ein Programm, das den Body Mass Index\n",
    "(BMI) einer Person berechnet. Der BMI ist ein nützlicher Indikator für die\n",
    "Gesundheit einer Person und wird mit der folgenden Formel berechnet:\n",
    "\n",
    "$BMI = Gewicht (kg) / Größe (m)^2$\n",
    "\n",
    "Ihr Programm nimmt das Gewicht des Benutzers in Kilogramm und die Größe in\n",
    "Metern als Eingabe und berechnet dann den BMI und zeigt ihn dem Benutzer an.\n",
    "\n",
    "1. Fordern Sie den Benutzer auf, sein Gewicht in Kilogramm einzugeben.\n",
    "2. Fordern Sie den Benutzer auf, seine Größe in Metern einzugeben.\n",
    "3. Berechnen Sie den BMI mit der angegebenen Formel.\n",
    "4. Geben Sie dem Benutzer den berechneten BMI-Wert aus.\n",
    "\n",
    "Vergessen Sie nicht, geeignete Datentypen für das Speichern der Gewichts- und\n",
    "Größenwerte sowie des berechneten BMI zu verwenden.\n",
    "\n",
    "Sie können das `bmi_sk` Starter Kit verwenden, um zu beginnen."
   ]
  }
 ],
 "metadata": {
  "kernelspec": {
   "display_name": "C++17",
   "language": "C++17",
   "name": "xcpp17"
  },
  "language_info": {
   "codemirror_mode": "text/x-c++src",
   "file_extension": ".cpp",
   "mimetype": "text/x-c++src",
   "name": "c++",
   "version": "17"
  }
 },
 "nbformat": 4,
 "nbformat_minor": 5
}
